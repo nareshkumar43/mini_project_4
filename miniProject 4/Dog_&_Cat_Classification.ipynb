{
 "cells": [
  {
   "cell_type": "markdown",
   "metadata": {},
   "source": [
    "# Introduction"
   ]
  },
  {
   "cell_type": "markdown",
   "metadata": {
    "colab_type": "text",
    "id": "jD0XeEXIJ8fr"
   },
   "source": [
    "This Model is based on https://medium.com/nybles/create-your-first-image-recognition-classifier-using-cnn-keras-and-tensorflow-backend-6eaab98d14dd"
   ]
  },
  {
   "cell_type": "markdown",
   "metadata": {
    "colab_type": "text",
    "id": "CnyXcyTnKArr"
   },
   "source": [
    "Some changes applied as needed"
   ]
  },
  {
   "cell_type": "markdown",
   "metadata": {
    "colab_type": "text",
    "id": "VwkiJRa43CpN"
   },
   "source": [
    "# Installing Package "
   ]
  },
  {
   "cell_type": "markdown",
   "metadata": {
    "colab": {
     "base_uri": "https://localhost:8080/",
     "height": 629
    },
    "colab_type": "code",
    "id": "lcUbhYuiSsC5",
    "outputId": "6b3cc55e-4c6a-46f7-8322-dde433d0e61c"
   },
   "source": [
    "If you are doing in google collaboration,\n",
    "install list of packages:\n",
    "\n",
    "!pip3 install tensorflow-gpu==1.13.1\n",
    "\n",
    "!pip install numpy pandas\n",
    "\n",
    "!pip install Keras"
   ]
  },
  {
   "cell_type": "markdown",
   "metadata": {
    "colab_type": "text",
    "id": "3bWty88a3M8i"
   },
   "source": [
    "# Download Data Set"
   ]
  },
  {
   "cell_type": "code",
   "execution_count": null,
   "metadata": {},
   "outputs": [],
   "source": [
    "!wget https://sds-platform-private.s3-us-east-2.amazonaws.com/uploads/P14-Convolutional-Neural-Networks.zip"
   ]
  },
  {
   "cell_type": "markdown",
   "metadata": {
    "colab_type": "text",
    "id": "EIX13UAD3R6b"
   },
   "source": [
    "# Unzip Data Set"
   ]
  },
  {
   "cell_type": "code",
   "execution_count": null,
   "metadata": {},
   "outputs": [],
   "source": [
    "!unzip P14-Convolutional-Neural-Networks.zip"
   ]
  },
  {
   "cell_type": "markdown",
   "metadata": {
    "colab_type": "text",
    "id": "20xgmmwCUXDe"
   },
   "source": [
    "## Building Model"
   ]
  },
  {
   "cell_type": "code",
   "execution_count": null,
   "metadata": {},
   "outputs": [],
   "source": [
    "# Importing the Keras libraries and packages\n",
    "from keras.models import Sequential\n",
    "from keras.layers import Convolution2D\n",
    "from keras.layers import MaxPooling2D\n",
    "from keras.layers import Flatten\n",
    "from keras.layers import Dense\n",
    "\n",
    "# Initialising the CNN\n",
    "model = Sequential()\n",
    "\n",
    "# Step 1 - Convolution\n",
    "model.add(Convolution2D(32, 3, 3, input_shape = (64, 64, 3), activation = 'relu'))\n",
    "\n",
    "# Step 2 - Pooling\n",
    "model.add(MaxPooling2D(pool_size = (2, 2)))\n",
    "\n",
    "# Adding a second convolutional layer\n",
    "model.add(Convolution2D(32, 3, 3, activation = 'relu'))\n",
    "model.add(MaxPooling2D(pool_size = (2, 2)))\n",
    "\n",
    "# Step 3 - Flattening\n",
    "model.add(Flatten())\n",
    "\n",
    "# Step 4 - Full connection\n",
    "model.add(Dense(output_dim = 128, activation = 'relu'))\n",
    "model.add(Dense(output_dim = 1, activation = 'sigmoid'))\n",
    "\n",
    "# Compiling the CNN\n",
    "model.compile(optimizer = 'adam', loss = 'binary_crossentropy', metrics = ['accuracy'])\n",
    "\n",
    "# Part 2 - Fitting the CNN to the images\n",
    "\n",
    "from keras.preprocessing.image import ImageDataGenerator\n",
    "\n",
    "train_datagen = ImageDataGenerator(rescale = 1./255,\n",
    "                                   shear_range = 0.2,\n",
    "                                   zoom_range = 0.2,\n",
    "                                   horizontal_flip = True)\n",
    "\n",
    "test_datagen = ImageDataGenerator(rescale = 1./255)\n",
    "\n",
    "training_set = train_datagen.flow_from_directory('dataset/training_set',\n",
    "                                                 target_size = (64, 64),\n",
    "                                                 batch_size = 32,\n",
    "                                                 class_mode = 'binary')\n",
    "\n",
    "test_set = test_datagen.flow_from_directory('dataset/test_set',\n",
    "                                            target_size = (64, 64),\n",
    "                                            batch_size = 32,\n",
    "                                            class_mode = 'binary')\n",
    "label_map = (training_set.class_indices)\n",
    "label_map = dict((value,key) for key,value in label_map.items()) #flip key,value\n",
    "\n",
    "#mapping label to JSON format and save to JSON file\n",
    "import json\n",
    "\n",
    "with open('label.json', 'w') as json_file:\n",
    "  json.dump(label_map, json_file)\n",
    "\n",
    "model.fit_generator(\n",
    "    training_set,\n",
    "    steps_per_epoch=4000,\n",
    "    epochs=8,\n",
    "    validation_data=test_set,\n",
    "    validation_steps=400)\n",
    "\n",
    "#uncomment this model if you want to try modelling with steps 8000 and epochs 10\n",
    "\"\"\"\n",
    "model.fit_generator(\n",
    "    training_set,\n",
    "    steps_per_epoch=8000,\n",
    "    epochs=10,\n",
    "    validation_data=test_set,\n",
    "    validation_steps=800)\n",
    "\"\"\""
   ]
  },
  {
   "cell_type": "code",
   "execution_count": 0,
   "metadata": {
    "colab": {
     "base_uri": "https://localhost:8080/",
     "height": 34
    },
    "colab_type": "code",
    "id": "aBbmc4KqofbC",
    "outputId": "08bc29bf-a061-48ff-dc50-9b16eb1f3b7f"
   },
   "outputs": [
    {
     "name": "stdout",
     "output_type": "stream",
     "text": [
      "{0: 'cats', 1: 'dogs'}\n"
     ]
    }
   ],
   "source": [
    "# show the classification\n",
    "print(label_map)"
   ]
  },
  {
   "cell_type": "markdown",
   "metadata": {
    "colab_type": "text",
    "id": "Kr4F47kc3ZAB"
   },
   "source": [
    "# Export The Model"
   ]
  },
  {
   "cell_type": "code",
   "execution_count": null,
   "metadata": {},
   "outputs": [],
   "source": [
    "from keras.models import model_from_json\n",
    "import os\n",
    "\n",
    "# serialize model to JSON\n",
    "model_json = model.to_json()\n",
    "with open(\"model.json\", \"w\") as json_file:\n",
    "    json_file.write(model_json)\n",
    "# serialize weights to HDF5\n",
    "model.save_weights(\"model.h5\")\n",
    "print(\"Saved model to disk\")\n",
    "\n",
    "# save model and architecture to single file\n",
    "model.save(\"model_full.h5\")\n",
    "print(\"Saved model to disk\")\n",
    "\n",
    "'''\n",
    "#if you want to know the type of the model and the data set given for training\n",
    "print(type(model))\n",
    "print(type(training_set))\n",
    "print(type(test_set))\n",
    "'''"
   ]
  },
  {
   "cell_type": "markdown",
   "metadata": {
    "colab_type": "text",
    "id": "2IxIp9hQRruA"
   },
   "source": [
    "# LOAD MODEL"
   ]
  },
  {
   "cell_type": "code",
   "execution_count": null,
   "metadata": {},
   "outputs": [],
   "source": [
    "\"\"\"\n",
    "# close your notebook or google collab and try to load your model directly before making prediction\n",
    "# if you export your model separately into weight and the model itself, use this scripting\n",
    "# load json and create model\n",
    "json_file = open('model.json', 'r')\n",
    "loaded_model_json = json_file.read()\n",
    "json_file.close()\n",
    "loaded_model = model_from_json(loaded_model_json)\n",
    "# load weights into new model\n",
    "loaded_model.load_weights(\"model.h5\")\n",
    "print(\"Loaded model from disk\")\n",
    "\"\"\"\n",
    "import numpy\n",
    "import os\n",
    "from keras.models import load_model\n",
    "model = load_model('model_full.h5')\n",
    "model.compile(loss='binary_crossentropy', optimizer='rmsprop', metrics=['accuracy'])\n",
    "model.summary()"
   ]
  },
  {
   "cell_type": "markdown",
   "metadata": {
    "colab_type": "text",
    "id": "CpPqDI_8Khg0"
   },
   "source": [
    "# **Try Dog Image to be predicted**"
   ]
  },
  {
   "cell_type": "code",
   "execution_count": null,
   "metadata": {},
   "outputs": [],
   "source": [
    "from keras.preprocessing.image import load_img\n",
    "from keras.preprocessing.image import img_to_array\n",
    "from keras.models import load_model\n",
    "import json\n",
    "\n",
    "#load file that will be predicted\n",
    "def load_image(filename):\n",
    "  # load the image\n",
    "\timg = load_img(filename, target_size=(64, 64))\n",
    "\t# convert to array\n",
    "\timg = img_to_array(img)\n",
    "\t# reshape into a single sample with 3 channels\n",
    "\timg = img.reshape(1, 64, 64, 3)\n",
    "\t# center pixel data\n",
    "\timg = img.astype('float32')\n",
    "\timg = img - [123.68, 116.779, 103.939]\n",
    "\treturn img\n",
    "\n",
    "#load label from JSON file\n",
    "label_place = r\"C:\\Users\\Petra Febrianto L\\Documents\\Kaggle\\Neurafarm\\P14-Convolutional-Neural-Networks\\Convolutional_Neural_Networks\\Model_epoch4000\\label.json\"\n",
    "with open(label_place, 'r') as json_file:\n",
    "  label_image = json.load(json_file)\n",
    "\n",
    "#make prediction\n",
    "testing_image_place = r\"C:\\Users\\Petra Febrianto L\\Documents\\Kaggle\\Neurafarm\\P14-Convolutional-Neural-Networks\\Convolutional_Neural_Networks\\dog.jpg\"\n",
    "testing_image = load_image(testing_image_place)\n",
    "result_binary = model.predict(testing_image) #result in binary, our classification method is binary\n",
    "\n",
    "\n",
    "#training_set.class_indices\n",
    "#convert binary to name class\n",
    "if result_binary[0][0] >= 0.5:\n",
    "    prediction = label_image[\"1\"]\n",
    "else:\n",
    "    prediction = label_image[\"0\"]\n",
    "\n",
    "print(prediction)"
   ]
  }
 ],
 "metadata": {
  "accelerator": "GPU",
  "colab": {
   "collapsed_sections": [],
   "name": "Dog & Cat Classification.ipynb",
   "provenance": [],
   "toc_visible": true
  },
  "kernelspec": {
   "display_name": "Python 3",
   "language": "python",
   "name": "python3"
  },
  "language_info": {
   "codemirror_mode": {
    "name": "ipython",
    "version": 3
   },
   "file_extension": ".py",
   "mimetype": "text/x-python",
   "name": "python",
   "nbconvert_exporter": "python",
   "pygments_lexer": "ipython3",
   "version": "3.7.1"
  }
 },
 "nbformat": 4,
 "nbformat_minor": 1
}
